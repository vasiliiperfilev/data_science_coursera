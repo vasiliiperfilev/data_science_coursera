{
  "nbformat": 4,
  "nbformat_minor": 0,
  "metadata": {
    "colab": {
      "name": "Untitled6.ipynb",
      "provenance": []
    },
    "kernelspec": {
      "name": "python3",
      "display_name": "Python 3"
    }
  },
  "cells": [
    {
      "cell_type": "code",
      "metadata": {
        "id": "wa8YoTDEK-SH"
      },
      "source": [
        "import numpy as np\r\n",
        "import math\r\n",
        "from matplotlib import pylab as plt\r\n",
        "%matplotlib inline"
      ],
      "execution_count": 16,
      "outputs": []
    },
    {
      "cell_type": "code",
      "metadata": {
        "id": "EVNan78bNeTh"
      },
      "source": [
        "def f(x):\r\n",
        "    func = math.sin(x / 5) * math.exp(x / 10) + 5 * math.exp(-x / 2)\r\n",
        "    return func"
      ],
      "execution_count": null,
      "outputs": []
    },
    {
      "cell_type": "code",
      "metadata": {
        "id": "UZ6REwViLeyF"
      },
      "source": [
        "a = np.array([[1, 1], [1, 15]])\r\n",
        "b = np.array([f(1), f(15)])\r\n",
        "a = np.linalg.solve(a, b)"
      ],
      "execution_count": null,
      "outputs": []
    },
    {
      "cell_type": "code",
      "metadata": {
        "id": "ISafaEZYQ2XY"
      },
      "source": [
        "x = np.arange(1, 15, 0.1)\r\n",
        "y = a[0] + a[1] * x\r\n",
        "plt.plot(x, y)\r\n",
        "plt.show()"
      ],
      "execution_count": null,
      "outputs": []
    },
    {
      "cell_type": "code",
      "metadata": {
        "id": "GALFLvSjTSz0"
      },
      "source": [
        "a = np.array([[1, 1, 1], [1, 8, 8**2], [1, 15, 15**2]])\r\n",
        "b = np.array([f(1), f(8), f(15)])\r\n",
        "a = np.linalg.solve(a, b)\r\n",
        "a"
      ],
      "execution_count": null,
      "outputs": []
    },
    {
      "cell_type": "code",
      "metadata": {
        "id": "zQ0FXA3eTS9d"
      },
      "source": [
        "x = np.arange(1, 15, 0.1)\r\n",
        "y = a[0] + a[1] * x + a[2] * x**2\r\n",
        "plt.plot(x, y)\r\n",
        "plt.show()"
      ],
      "execution_count": null,
      "outputs": []
    },
    {
      "cell_type": "code",
      "metadata": {
        "id": "_kszTPD9UUeG"
      },
      "source": [
        "a = np.array([[1, 1, 1, 1], [1, 4, 4**2, 4**3], [1, 10, 10**2, 10**3], [1, 15, 15**2, 15**3]])\r\n",
        "b = np.array([f(1), f(4), f(10), f(15)])\r\n",
        "a = np.linalg.solve(a, b)\r\n",
        "a"
      ],
      "execution_count": null,
      "outputs": []
    },
    {
      "cell_type": "code",
      "metadata": {
        "id": "B21Q6XokUUu0"
      },
      "source": [
        "x = np.arange(1, 15, 0.1)\r\n",
        "y = a[0] + a[1] * x + a[2] * x**2 + a[3] * x**3\r\n",
        "plt.plot(x, y)\r\n",
        "plt.show()"
      ],
      "execution_count": null,
      "outputs": []
    }
  ]
}