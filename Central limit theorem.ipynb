{
  "nbformat": 4,
  "nbformat_minor": 0,
  "metadata": {
    "colab": {
      "name": "Untitled8.ipynb",
      "provenance": []
    },
    "kernelspec": {
      "name": "python3",
      "display_name": "Python 3"
    }
  },
  "cells": [
    {
      "cell_type": "markdown",
      "metadata": {
        "id": "0jKOJRLv6pSv"
      },
      "source": [
        "Использую бетта распределение (https://docs.scipy.org/doc/scipy-0.14.0/reference/generated/scipy.stats.beta.html#scipy.stats.beta, https://docs.scipy.org/doc/scipy/reference/generated/scipy.stats.beta.html#scipy.stats.beta, https://ru.wikipedia.org/wiki/%D0%91%D0%B5%D1%82%D0%B0-%D1%80%D0%B0%D1%81%D0%BF%D1%80%D0%B5%D0%B4%D0%B5%D0%BB%D0%B5%D0%BD%D0%B8%D0%B5)"
      ]
    },
    {
      "cell_type": "code",
      "metadata": {
        "id": "zIMc_JaT7xm8"
      },
      "source": [
        "import pandas as pd\r\n",
        "import numpy as np\r\n",
        "import matplotlib.pyplot as plt\r\n",
        "import scipy.stats as sts\r\n",
        "from scipy.stats import beta\r\n",
        "%matplotlib inline"
      ],
      "execution_count": 1,
      "outputs": []
    },
    {
      "cell_type": "code",
      "metadata": {
        "id": "LUNfOAA16cWE"
      },
      "source": [
        "#назначим параметры распределения\r\n",
        "a=0.5\r\n",
        "b=0.7\r\n",
        "\r\n",
        "# сгенерируем выборку из 1000 значений\r\n",
        "sample = beta.rvs(a, b, size=1000)"
      ],
      "execution_count": 2,
      "outputs": []
    },
    {
      "cell_type": "code",
      "metadata": {
        "colab": {
          "base_uri": "https://localhost:8080/",
          "height": 296
        },
        "id": "vQqLy4Jz9N1r",
        "outputId": "ccf972d2-5659-4583-f157-f251ce50b2cd"
      },
      "source": [
        "#построим гистограмму выборки и теоретическую плотность бета распределения на одном графике\r\n",
        "#гистограмма:\r\n",
        "plt.hist(sample,bins=40, density=True)\r\n",
        "\r\n",
        "# на том же графике построим теоретическую плотность распределения:\r\n",
        "x = np.linspace(0,1,50)\r\n",
        "pdf = beta.pdf(x, a, b)\r\n",
        "plt.plot(x, pdf, label='theoretical Beta', alpha=0.5)\r\n",
        "plt.legend()\r\n",
        "plt.ylabel('$f(x)$')\r\n",
        "plt.xlabel('$x$')"
      ],
      "execution_count": 3,
      "outputs": [
        {
          "output_type": "execute_result",
          "data": {
            "text/plain": [
              "Text(0.5, 0, '$x$')"
            ]
          },
          "metadata": {
            "tags": []
          },
          "execution_count": 3
        },
        {
          "output_type": "display_data",
          "data": {
            "image/png": "[encoded data removed]",
            "text/plain": [
              "<Figure size 432x288 with 1 Axes>"
            ]
          },
          "metadata": {
            "tags": [],
            "needs_background": "light"
          }
        }
      ]
    },
    {
      "cell_type": "code",
      "metadata": {
        "id": "ZidBfV7j_t3g"
      },
      "source": [
        "#напишем функцию для создания выборки 1000 средних из 1000 выборок исходного распределения объема N\r\n",
        "def mean_expected_value_sample(dist_func, size):\r\n",
        "    mev_sample = []\r\n",
        "    samples = beta.rvs(a, b, size=(1000, size))\r\n",
        "    for sample in samples:\r\n",
        "        mev_sample.append(sample.mean())\r\n",
        "    return mev_sample"
      ],
      "execution_count": 4,
      "outputs": []
    },
    {
      "cell_type": "code",
      "metadata": {
        "id": "janevXeJBjk2"
      },
      "source": [
        "#сделаем выборки 1000 средних из распределений объема 5, 10,50\r\n",
        "mev_sample_5 = mean_expected_value_sample(beta, 5)\r\n",
        "mev_sample_10 = mean_expected_value_sample(beta, 10)\r\n",
        "mev_sample_50 = mean_expected_value_sample(beta, 50)"
      ],
      "execution_count": 5,
      "outputs": []
    },
    {
      "cell_type": "code",
      "metadata": {
        "id": "9zBfOCo5GiqA"
      },
      "source": [
        "#из википедии возьмем формулы для математичекого ожидания и дисперсии бета распределения\r\n",
        "#Посчитаем МО и Д для нормального распределения приближающего значение МО по ЦПТ, взяв теоретические значения параметров a и b\r\n",
        "mu = a / (a+b)\r\n",
        "disp = (a*b) / (((a+b)**2) * (a+b+1))\r\n",
        "sigma = lambda n: (disp / n) ** 0.5"
      ],
      "execution_count": 6,
      "outputs": []
    },
    {
      "cell_type": "code",
      "metadata": {
        "colab": {
          "base_uri": "https://localhost:8080/",
          "height": 296
        },
        "id": "ti39PXslLEKK",
        "outputId": "0d8b0539-4bd3-48db-b594-4e2012ea9d58"
      },
      "source": [
        "#на одной оси построим распределение 1000 средних из 1000 выборок бета распределения объема 5 и теоретическую функцию плотности распределение средних бета распределения по ЦПТ\r\n",
        "sigma_5 = sigma(5)\r\n",
        "\r\n",
        "#гистограмма\r\n",
        "plt.hist(mev_sample_5,bins=40, density=True)\r\n",
        "\r\n",
        "# на том же графике построим теоретическую плотность распределения:\r\n",
        "x = np.linspace(0,1,50)\r\n",
        "pdf = sts.norm(loc=mu, scale=sigma_5).pdf(x)\r\n",
        "plt.plot(x, pdf, label='theoretical Beta pdf', alpha=0.5)\r\n",
        "plt.legend()\r\n",
        "plt.ylabel('$frequency$')\r\n",
        "plt.xlabel('$x$')"
      ],
      "execution_count": 7,
      "outputs": [
        {
          "output_type": "execute_result",
          "data": {
            "text/plain": [
              "Text(0.5, 0, '$x$')"
            ]
          },
          "metadata": {
            "tags": []
          },
          "execution_count": 7
        },
        {
          "output_type": "display_data",
          "data": {
            "image/png": "[encoded data removed]",
            "text/plain": [
              "<Figure size 432x288 with 1 Axes>"
            ]
          },
          "metadata": {
            "tags": [],
            "needs_background": "light"
          }
        }
      ]
    },
    {
      "cell_type": "code",
      "metadata": {
        "colab": {
          "base_uri": "https://localhost:8080/",
          "height": 296
        },
        "id": "-m58UkYnZoYq",
        "outputId": "b3da7ffb-d5c1-4b32-887b-c5d85d40e964"
      },
      "source": [
        "#на одной оси построим распределение 1000 средних из 1000 выборок бета распределения объема 10 и теоретическую функцию плотности распределение средних бета распределения по ЦПТ\r\n",
        "sigma_10 = sigma(10)\r\n",
        "\r\n",
        "#гистограмма\r\n",
        "plt.hist(mev_sample_10,bins=40, density=True)\r\n",
        "\r\n",
        "# на том же графике построим теоретическую плотность распределения:\r\n",
        "x = np.linspace(0,1,40)\r\n",
        "pdf = sts.norm(loc=mu, scale=sigma_10).pdf(x)\r\n",
        "plt.plot(x, pdf, label='theoretical Beta pdf', alpha=0.5)\r\n",
        "plt.legend()\r\n",
        "plt.ylabel('$frequency$')\r\n",
        "plt.xlabel('$x$')"
      ],
      "execution_count": 8,
      "outputs": [
        {
          "output_type": "execute_result",
          "data": {
            "text/plain": [
              "Text(0.5, 0, '$x$')"
            ]
          },
          "metadata": {
            "tags": []
          },
          "execution_count": 8
        },
        {
          "output_type": "display_data",
          "data": {
            "image/png": "[encoded data removed]",
            "text/plain": [
              "<Figure size 432x288 with 1 Axes>"
            ]
          },
          "metadata": {
            "tags": [],
            "needs_background": "light"
          }
        }
      ]
    },
    {
      "cell_type": "code",
      "metadata": {
        "colab": {
          "base_uri": "https://localhost:8080/",
          "height": 296
        },
        "id": "Fur3NGQ9dgcR",
        "outputId": "a3a029b0-0dd4-4a56-c4e8-303337f6deac"
      },
      "source": [
        "#на одной оси построим распределение 1000 средних из 1000 выборок бета распределения объема 50 и теоретическую функцию плотности распределение средних бета распределения по ЦПТ\r\n",
        "sigma_50 = sigma(50)\r\n",
        "\r\n",
        "#гистограмма\r\n",
        "plt.hist(mev_sample_50,bins=40, density=True)\r\n",
        "\r\n",
        "# на том же графике построим теоретическую плотность распределения:\r\n",
        "x = np.linspace(0,1,40)\r\n",
        "pdf = sts.norm(loc=mu, scale=sigma_50).pdf(x)\r\n",
        "plt.plot(x, pdf, label='theoretical Beta pdf', alpha=0.5)\r\n",
        "plt.legend()\r\n",
        "plt.ylabel('$frequency$')\r\n",
        "plt.xlabel('$x$')"
      ],
      "execution_count": 9,
      "outputs": [
        {
          "output_type": "execute_result",
          "data": {
            "text/plain": [
              "Text(0.5, 0, '$x$')"
            ]
          },
          "metadata": {
            "tags": []
          },
          "execution_count": 9
        },
        {
          "output_type": "display_data",
          "data": {
            "image/png": "[encoded data removed]",
            "text/plain": [
              "<Figure size 432x288 with 1 Axes>"
            ]
          },
          "metadata": {
            "tags": [],
            "needs_background": "light"
          }
        }
      ]
    },
    {
      "cell_type": "markdown",
      "metadata": {
        "id": "nlMv9qBeeUFg"
      },
      "source": [
        "**Вывод:** с ростом объема исходных выборок среднеквадратичное отклонение выборки средних уменьшается, а сама выборка средних лучше приближает истинное значение среднего исходной выборки"
      ]
    },
    {
      "cell_type": "code",
      "metadata": {
        "id": "1_rjOHt7gbwn"
      },
      "source": [
        ""
      ],
      "execution_count": 9,
      "outputs": []
    }
  ]
}