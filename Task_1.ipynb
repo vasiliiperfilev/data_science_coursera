{
  "nbformat": 4,
  "nbformat_minor": 0,
  "metadata": {
    "colab": {
      "name": "Untitled5.ipynb",
      "provenance": []
    },
    "kernelspec": {
      "name": "python3",
      "display_name": "Python 3"
    }
  },
  "cells": [
    {
      "cell_type": "code",
      "metadata": {
        "id": "jtbGN7ezPdLr"
      },
      "source": [
        "import pandas as pd\r\n",
        "import numpy as np\r\n",
        "import re\r\n",
        "from scipy.spatial import distance"
      ],
      "execution_count": 23,
      "outputs": []
    },
    {
      "cell_type": "code",
      "metadata": {
        "id": "CLSoco5aPyWD"
      },
      "source": [
        "file_obj = open('drive/MyDrive/sentences.txt', 'r')"
      ],
      "execution_count": 24,
      "outputs": []
    },
    {
      "cell_type": "code",
      "metadata": {
        "id": "SRILC8sXUOev"
      },
      "source": [
        "data_list = []\r\n",
        "for line in file_obj:\r\n",
        "    data_list.append(line.lower().strip())"
      ],
      "execution_count": null,
      "outputs": []
    },
    {
      "cell_type": "code",
      "metadata": {
        "id": "oMXRm_vOXXs4"
      },
      "source": [
        "raw_word_list = []\r\n",
        "for line in data_list:\r\n",
        "    raw_word_list.append(re.split('[^a-z]', line))\r\n",
        "\r\n",
        "word_list = []    \r\n",
        "for line in raw_word_list:\r\n",
        "    line = [x for x in line if x]\r\n",
        "    word_list.append(line)"
      ],
      "execution_count": 26,
      "outputs": []
    },
    {
      "cell_type": "code",
      "metadata": {
        "id": "gjfVC4mLfGX4"
      },
      "source": [
        "dict = {}\r\n",
        "key = 0\r\n",
        "for line in word_list:\r\n",
        "    for word in line:\r\n",
        "        if not (word in dict.values()):\r\n",
        "            dict[key] = word\r\n",
        "            key = key + 1"
      ],
      "execution_count": 27,
      "outputs": []
    },
    {
      "cell_type": "code",
      "metadata": {
        "id": "0lm7dII1kqIs"
      },
      "source": [
        "arr = np.zeros((22, 254))\r\n",
        "\r\n",
        "for sentence in word_list:\r\n",
        "    for key, word in dict.items():\r\n",
        "        value = sentence.count(word)\r\n",
        "        arr[word_list.index(sentence), key] = value\r\n"
      ],
      "execution_count": 28,
      "outputs": []
    },
    {
      "cell_type": "code",
      "metadata": {
        "id": "von2I7hh9zNY"
      },
      "source": [
        "result_dict = {}\r\n",
        "sentence_number=0\r\n",
        "for raw in arr:\r\n",
        "    cos_distance = distance.cosine(arr[0], raw)\r\n",
        "    result_dict[sentence_number] = round(cos_distance,2)\r\n",
        "    sentence_number +=1\r\n",
        "\r\n",
        "result_dict."
      ],
      "execution_count": null,
      "outputs": []
    }
  ]
}