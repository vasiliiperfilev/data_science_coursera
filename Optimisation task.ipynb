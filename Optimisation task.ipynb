{
  "nbformat": 4,
  "nbformat_minor": 0,
  "metadata": {
    "colab": {
      "name": "Untitled7.ipynb",
      "provenance": []
    },
    "kernelspec": {
      "name": "python3",
      "display_name": "Python 3"
    }
  },
  "cells": [
    {
      "cell_type": "markdown",
      "metadata": {
        "id": "enVxTl8WqVYU"
      },
      "source": [
        "#Smooth function"
      ]
    },
    {
      "cell_type": "code",
      "metadata": {
        "id": "qnBGbDuGXYke"
      },
      "source": [
        "import math\r\n",
        "import numpy as np\r\n",
        "from scipy.optimize import minimize"
      ],
      "execution_count": 26,
      "outputs": []
    },
    {
      "cell_type": "code",
      "metadata": {
        "id": "UIzEQz-hXguy"
      },
      "source": [
        "fun = lambda x: math.sin(x / 5.0) * math.exp(x / 10.0) + 5 * math.exp(-x / 2.0)"
      ],
      "execution_count": 28,
      "outputs": []
    },
    {
      "cell_type": "code",
      "metadata": {
        "id": "4dOMP2ETiuYD"
      },
      "source": [
        "x0 = 2\r\n",
        "x = np.arange(1,30, 0.1)\r\n",
        "result = minimize(fun, x0, method='BFGS')\r\n",
        "result"
      ],
      "execution_count": null,
      "outputs": []
    },
    {
      "cell_type": "code",
      "metadata": {
        "id": "X8WXpyl8Y2Aa"
      },
      "source": [
        "x0 = 30\r\n",
        "x = np.arange(1,30, 0.1)\r\n",
        "result = minimize(fun, x0, method='BFGS')\r\n",
        "result"
      ],
      "execution_count": null,
      "outputs": []
    },
    {
      "cell_type": "code",
      "metadata": {
        "id": "IJZDuCRwis01"
      },
      "source": [
        "from scipy.optimize import differential_evolution\r\n",
        "bounds = [(0,30)]\r\n",
        "result = differential_evolution(fun, bounds)\r\n",
        "result"
      ],
      "execution_count": null,
      "outputs": []
    },
    {
      "cell_type": "markdown",
      "metadata": {
        "id": "3ay8FOArqCj2"
      },
      "source": [
        "#Not-smooth function"
      ]
    },
    {
      "cell_type": "code",
      "metadata": {
        "id": "Nagpv_2gp2F6"
      },
      "source": [
        "import matplotlib.pyplot as plt\r\n",
        "%matplotlib inline\r\n",
        "fun_2 = lambda x: int(math.sin(x / 5.0) * math.exp(x / 10.0) + 5 * math.exp(-x / 2.0))\r\n",
        "x = np.arange(1,30, 0.1)\r\n",
        "y = []\r\n",
        "\r\n",
        "for i in x:\r\n",
        "    result = fun_2(i)\r\n",
        "    y.append(result)\r\n",
        "\r\n",
        "plt.plot(x,y)"
      ],
      "execution_count": null,
      "outputs": []
    },
    {
      "cell_type": "code",
      "metadata": {
        "id": "s2tNmkDfu_dG"
      },
      "source": [
        "x0 = 30\r\n",
        "x = np.arange(1,30, 0.1)\r\n",
        "result = minimize(fun_2, x0, method='BFGS')\r\n",
        "result"
      ],
      "execution_count": null,
      "outputs": []
    },
    {
      "cell_type": "code",
      "metadata": {
        "id": "DY2R4XPDuVdS"
      },
      "source": [
        "from scipy.optimize import differential_evolution\r\n",
        "bounds = [(0,30)]\r\n",
        "result = differential_evolution(fun_2, bounds)\r\n",
        "result"
      ],
      "execution_count": null,
      "outputs": []
    }
  ]
}